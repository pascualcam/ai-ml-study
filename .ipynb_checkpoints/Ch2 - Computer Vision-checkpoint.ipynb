{
 "cells": [
  {
   "cell_type": "code",
   "execution_count": 40,
   "id": "ea883502",
   "metadata": {},
   "outputs": [
    {
     "name": "stdout",
     "output_type": "stream",
     "text": [
      "2.14.0\n"
     ]
    }
   ],
   "source": [
    "import pandas as pd\n",
    "import numpy as np\n",
    "import tensorflow as tf\n",
    "print(tf.__version__)\n",
    "\n",
    "import requests\n",
    "requests.packages.urllib3.disable_warnings()\n",
    "import ssl\n",
    "\n",
    "try:\n",
    "    _create_unverified_https_context = ssl._create_unverified_context\n",
    "except AttributeError:\n",
    "    # Legacy Python that doesn't verify HTTPS certificates by default\n",
    "    pass\n",
    "else:\n",
    "    # Handle target environment that doesn't support HTTPS verification\n",
    "    ssl._create_default_https_context = _create_unverified_https_context"
   ]
  },
  {
   "cell_type": "code",
   "execution_count": 41,
   "id": "3a3be895",
   "metadata": {},
   "outputs": [],
   "source": [
    "class myCallback(tf.keras.callbacks.Callback):\n",
    "    def on_epoch_end(self, epoch, logs={}):\n",
    "        if(logs.get('accuracy') > 0.95):\n",
    "            print(\"\\nReached 95% accuracy, finish training.\")\n",
    "            self.model.stop_training = True"
   ]
  },
  {
   "cell_type": "code",
   "execution_count": 42,
   "id": "56f6bfc3",
   "metadata": {},
   "outputs": [],
   "source": [
    "callbacks = myCallback()"
   ]
  },
  {
   "cell_type": "code",
   "execution_count": 43,
   "id": "f467089f",
   "metadata": {},
   "outputs": [],
   "source": [
    "# import the fasion MNIST dataset from keras\n",
    "data = tf.keras.datasets.fashion_mnist\n",
    "(training_images, training_labels), (test_images, test_labels) = data.load_data()"
   ]
  },
  {
   "cell_type": "code",
   "execution_count": 44,
   "id": "c288c8a7",
   "metadata": {},
   "outputs": [],
   "source": [
    "# normalize pixel data\n",
    "training_images = training_images / 255.0\n",
    "test_images = test_images / 255.0"
   ]
  },
  {
   "cell_type": "code",
   "execution_count": 45,
   "id": "7aeb24a8",
   "metadata": {},
   "outputs": [],
   "source": [
    "# model\n",
    "model = tf.keras.Sequential()\n",
    "model.add(tf.keras.layers.Flatten(input_shape=(28, 28)))  # input\n",
    "model.add(tf.keras.layers.Dense(128, activation='relu'))  # hidden\n",
    "model.add(tf.keras.layers.Dense(10, activation='softmax'))  # output"
   ]
  },
  {
   "cell_type": "code",
   "execution_count": 46,
   "id": "6ee2bc07",
   "metadata": {},
   "outputs": [],
   "source": [
    "model.compile(\n",
    "    optimizer='adam',\n",
    "    loss='sparse_categorical_crossentropy',\n",
    "    metrics=['accuracy']\n",
    ")"
   ]
  },
  {
   "cell_type": "code",
   "execution_count": 47,
   "id": "6f2bdb19",
   "metadata": {},
   "outputs": [
    {
     "name": "stdout",
     "output_type": "stream",
     "text": [
      "Epoch 1/50\n",
      "1875/1875 [==============================] - 1s 658us/step - loss: 0.4937 - accuracy: 0.8264\n",
      "Epoch 2/50\n",
      "1875/1875 [==============================] - 1s 651us/step - loss: 0.3739 - accuracy: 0.8652\n",
      "Epoch 3/50\n",
      "1875/1875 [==============================] - 1s 646us/step - loss: 0.3340 - accuracy: 0.8787\n",
      "Epoch 4/50\n",
      "1875/1875 [==============================] - 1s 655us/step - loss: 0.3095 - accuracy: 0.8863\n",
      "Epoch 5/50\n",
      "1875/1875 [==============================] - 1s 653us/step - loss: 0.2935 - accuracy: 0.8910\n",
      "Epoch 6/50\n",
      "1875/1875 [==============================] - 1s 650us/step - loss: 0.2782 - accuracy: 0.8957\n",
      "Epoch 7/50\n",
      "1875/1875 [==============================] - 1s 655us/step - loss: 0.2666 - accuracy: 0.9019\n",
      "Epoch 8/50\n",
      "1875/1875 [==============================] - 1s 697us/step - loss: 0.2569 - accuracy: 0.9046\n",
      "Epoch 9/50\n",
      "1875/1875 [==============================] - 1s 698us/step - loss: 0.2461 - accuracy: 0.9086\n",
      "Epoch 10/50\n",
      "1875/1875 [==============================] - 1s 682us/step - loss: 0.2372 - accuracy: 0.9112\n",
      "Epoch 11/50\n",
      "1875/1875 [==============================] - 1s 674us/step - loss: 0.2297 - accuracy: 0.9134\n",
      "Epoch 12/50\n",
      "1875/1875 [==============================] - 1s 658us/step - loss: 0.2230 - accuracy: 0.9166\n",
      "Epoch 13/50\n",
      "1875/1875 [==============================] - 1s 655us/step - loss: 0.2152 - accuracy: 0.9181\n",
      "Epoch 14/50\n",
      "1875/1875 [==============================] - 1s 656us/step - loss: 0.2071 - accuracy: 0.9224\n",
      "Epoch 15/50\n",
      "1875/1875 [==============================] - 1s 693us/step - loss: 0.2008 - accuracy: 0.9241\n",
      "Epoch 16/50\n",
      "1875/1875 [==============================] - 1s 663us/step - loss: 0.1972 - accuracy: 0.9265\n",
      "Epoch 17/50\n",
      "1875/1875 [==============================] - 1s 647us/step - loss: 0.1922 - accuracy: 0.9272\n",
      "Epoch 18/50\n",
      "1875/1875 [==============================] - 1s 655us/step - loss: 0.1858 - accuracy: 0.9299\n",
      "Epoch 19/50\n",
      "1875/1875 [==============================] - 1s 657us/step - loss: 0.1828 - accuracy: 0.9319\n",
      "Epoch 20/50\n",
      "1875/1875 [==============================] - 1s 658us/step - loss: 0.1767 - accuracy: 0.9331\n",
      "Epoch 21/50\n",
      "1875/1875 [==============================] - 1s 653us/step - loss: 0.1734 - accuracy: 0.9349\n",
      "Epoch 22/50\n",
      "1875/1875 [==============================] - 1s 661us/step - loss: 0.1679 - accuracy: 0.9365\n",
      "Epoch 23/50\n",
      "1875/1875 [==============================] - 1s 659us/step - loss: 0.1659 - accuracy: 0.9375\n",
      "Epoch 24/50\n",
      "1875/1875 [==============================] - 1s 662us/step - loss: 0.1608 - accuracy: 0.9402\n",
      "Epoch 25/50\n",
      "1875/1875 [==============================] - 1s 652us/step - loss: 0.1574 - accuracy: 0.9406\n",
      "Epoch 26/50\n",
      "1875/1875 [==============================] - 1s 650us/step - loss: 0.1539 - accuracy: 0.9422\n",
      "Epoch 27/50\n",
      "1875/1875 [==============================] - 1s 684us/step - loss: 0.1482 - accuracy: 0.9449\n",
      "Epoch 28/50\n",
      "1875/1875 [==============================] - 1s 696us/step - loss: 0.1478 - accuracy: 0.9443\n",
      "Epoch 29/50\n",
      "1875/1875 [==============================] - 1s 659us/step - loss: 0.1434 - accuracy: 0.9460\n",
      "Epoch 30/50\n",
      "1875/1875 [==============================] - 1s 655us/step - loss: 0.1412 - accuracy: 0.9463\n",
      "Epoch 31/50\n",
      "1842/1875 [============================>.] - ETA: 0s - loss: 0.1349 - accuracy: 0.9501\n",
      "Reached 95% accuracy, finish training.\n",
      "1875/1875 [==============================] - 1s 684us/step - loss: 0.1346 - accuracy: 0.9502\n"
     ]
    },
    {
     "data": {
      "text/plain": [
       "<keras.src.callbacks.History at 0x2de02d9f0>"
      ]
     },
     "execution_count": 47,
     "metadata": {},
     "output_type": "execute_result"
    }
   ],
   "source": [
    "model.fit(training_images, training_labels, \n",
    "          epochs=50, callbacks=[callbacks]\n",
    "         )"
   ]
  },
  {
   "cell_type": "code",
   "execution_count": 48,
   "id": "19e517fe",
   "metadata": {},
   "outputs": [
    {
     "name": "stdout",
     "output_type": "stream",
     "text": [
      "313/313 [==============================] - 0s 435us/step - loss: 0.4042 - accuracy: 0.8891\n"
     ]
    },
    {
     "data": {
      "text/plain": [
       "[0.40421414375305176, 0.8891000151634216]"
      ]
     },
     "execution_count": 48,
     "metadata": {},
     "output_type": "execute_result"
    }
   ],
   "source": [
    "model.evaluate(test_images, test_labels)"
   ]
  },
  {
   "cell_type": "code",
   "execution_count": 49,
   "id": "50f4c6a7",
   "metadata": {},
   "outputs": [
    {
     "name": "stdout",
     "output_type": "stream",
     "text": [
      "313/313 [==============================] - 0s 395us/step\n"
     ]
    }
   ],
   "source": [
    "classifications = model.predict(test_images)"
   ]
  },
  {
   "cell_type": "code",
   "execution_count": 50,
   "id": "c2c52ba2",
   "metadata": {},
   "outputs": [
    {
     "name": "stdout",
     "output_type": "stream",
     "text": [
      "[1.3788643e-15 3.1320436e-14 4.7833353e-14 1.0727306e-15 5.0445928e-14\n",
      " 9.1626509e-07 2.3431059e-13 1.4345790e-03 7.1004190e-14 9.9856454e-01]\n",
      "9\n"
     ]
    }
   ],
   "source": [
    "print(classifications[0])\n",
    "print(test_labels[0])"
   ]
  },
  {
   "cell_type": "code",
   "execution_count": null,
   "id": "368f5b29",
   "metadata": {},
   "outputs": [],
   "source": []
  }
 ],
 "metadata": {
  "kernelspec": {
   "display_name": "Python 3 (ipykernel)",
   "language": "python",
   "name": "python3"
  },
  "language_info": {
   "codemirror_mode": {
    "name": "ipython",
    "version": 3
   },
   "file_extension": ".py",
   "mimetype": "text/x-python",
   "name": "python",
   "nbconvert_exporter": "python",
   "pygments_lexer": "ipython3",
   "version": "3.10.2"
  }
 },
 "nbformat": 4,
 "nbformat_minor": 5
}

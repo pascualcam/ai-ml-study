{
  "nbformat": 4,
  "nbformat_minor": 0,
  "metadata": {
    "colab": {
      "provenance": [],
      "authorship_tag": "ABX9TyOtB8yI7ibQU1Is1ficBcMw",
      "include_colab_link": true
    },
    "kernelspec": {
      "name": "python3",
      "display_name": "Python 3"
    },
    "language_info": {
      "name": "python"
    }
  },
  "cells": [
    {
      "cell_type": "markdown",
      "metadata": {
        "id": "view-in-github",
        "colab_type": "text"
      },
      "source": [
        "<a href=\"https://colab.research.google.com/github/pascualcam/aiml_code/blob/main/ch4/ch4_pt2.ipynb\" target=\"_parent\"><img src=\"https://colab.research.google.com/assets/colab-badge.svg\" alt=\"Open In Colab\"/></a>"
      ]
    },
    {
      "cell_type": "code",
      "execution_count": null,
      "metadata": {
        "id": "TVuhh6cF1izj"
      },
      "outputs": [],
      "source": [
        "import tensorflow as tf\n",
        "import tensorflow_datasets as tfds"
      ]
    },
    {
      "cell_type": "code",
      "source": [
        "(training_images, training_labels), (test_images, test_labels) = tfds.as_numpy(\n",
        "    tfds.load(name='fashion_mnist',\n",
        "              split = ['train', 'test'],\n",
        "              batch_size = -1,\n",
        "              as_supervised = True\n",
        "              )\n",
        "    )"
      ],
      "metadata": {
        "id": "LDWgL4A216vs"
      },
      "execution_count": null,
      "outputs": []
    },
    {
      "cell_type": "code",
      "source": [
        "training_images = training_images / 255.0\n",
        "test_images = test_images / 255.0"
      ],
      "metadata": {
        "id": "Xj9xS3g62amc"
      },
      "execution_count": null,
      "outputs": []
    },
    {
      "cell_type": "code",
      "source": [
        "model = tf.keras.models.Sequential([\n",
        "    tf.keras.layers.Flatten(input_shape=(28, 28, 1)),\n",
        "    tf.keras.layers.Dense(128, activation=tf.nn.relu),\n",
        "    tf.keras.layers.Dropout(0.2),\n",
        "    tf.keras.layers.Dense(10, activation=tf.nn.softmax)\n",
        "])"
      ],
      "metadata": {
        "id": "akkgJQr12kao"
      },
      "execution_count": null,
      "outputs": []
    },
    {
      "cell_type": "code",
      "source": [
        "model.compile(\n",
        "    optimizer='adam',\n",
        "    loss='sparse_categorical_crossentropy',\n",
        "    metrics=['accuracy']\n",
        ")"
      ],
      "metadata": {
        "id": "JWVmiXCs249O"
      },
      "execution_count": null,
      "outputs": []
    },
    {
      "cell_type": "code",
      "source": [
        "model.fit(training_images, training_labels, epochs=5)"
      ],
      "metadata": {
        "colab": {
          "base_uri": "https://localhost:8080/"
        },
        "id": "ss9VpZYR3E1k",
        "outputId": "7d1c2983-4f4b-41f0-d458-645ef77319df"
      },
      "execution_count": null,
      "outputs": [
        {
          "output_type": "stream",
          "name": "stdout",
          "text": [
            "Epoch 1/5\n",
            "1875/1875 [==============================] - 5s 2ms/step - loss: 0.5302 - accuracy: 0.8129\n",
            "Epoch 2/5\n",
            "1875/1875 [==============================] - 7s 4ms/step - loss: 0.3996 - accuracy: 0.8543\n",
            "Epoch 3/5\n",
            "1875/1875 [==============================] - 5s 3ms/step - loss: 0.3661 - accuracy: 0.8670\n",
            "Epoch 4/5\n",
            "1875/1875 [==============================] - 5s 3ms/step - loss: 0.3466 - accuracy: 0.8732\n",
            "Epoch 5/5\n",
            "1875/1875 [==============================] - 6s 3ms/step - loss: 0.3302 - accuracy: 0.8779\n"
          ]
        },
        {
          "output_type": "execute_result",
          "data": {
            "text/plain": [
              "<keras.src.callbacks.History at 0x78296a391360>"
            ]
          },
          "metadata": {},
          "execution_count": 25
        }
      ]
    },
    {
      "cell_type": "markdown",
      "source": [
        "Let's move on to the humans-or-horses dataset"
      ],
      "metadata": {
        "id": "1SUSDf_15pMh"
      }
    },
    {
      "cell_type": "code",
      "source": [
        "import tensorflow as tf\n",
        "import tensorflow_datasets as tfds\n",
        "print(tf.__version__)"
      ],
      "metadata": {
        "colab": {
          "base_uri": "https://localhost:8080/"
        },
        "id": "7bOsfY1x46_7",
        "outputId": "2cc6588c-6bae-4bb7-9d68-4bbc220a9673"
      },
      "execution_count": null,
      "outputs": [
        {
          "output_type": "stream",
          "name": "stdout",
          "text": [
            "2.14.0\n"
          ]
        }
      ]
    },
    {
      "cell_type": "code",
      "source": [
        "data = tfds.load(\n",
        "    'horses_or_humans',\n",
        "    split='train',\n",
        "    as_supervised = True\n",
        ")"
      ],
      "metadata": {
        "id": "fH1HiI6J5nsp"
      },
      "execution_count": null,
      "outputs": []
    },
    {
      "cell_type": "code",
      "source": [
        "train_batches = data.shuffle(100).batch(10)\n",
        "\n",
        "model = tf.keras.models.Sequential([\n",
        "    tf.keras.layers.Conv2D(16, (3, 3), activation = 'relu', input_shape = (300, 300, 3)),\n",
        "    tf.keras.layers.MaxPooling2D(2, 2),\n",
        "    tf.keras.layers.Conv2D(32, (3, 3), activation = 'relu'),\n",
        "    tf.keras.layers.MaxPooling2D(2, 2),\n",
        "    tf.keras.layers.Conv2D(64, (3, 3), activation = 'relu'),\n",
        "    tf.keras.layers.MaxPooling2D(2, 2),\n",
        "    tf.keras.layers.Conv2D(64, (3, 3), activation = 'relu'),\n",
        "    tf.keras.layers.MaxPooling2D(2, 2),\n",
        "    tf.keras.layers.Conv2D(64, (3, 3), activation = 'relu'),\n",
        "    tf.keras.layers.MaxPooling2D(2, 2),\n",
        "    tf.keras.layers.Flatten(),\n",
        "    tf.keras.layers.Dense(512, activation = 'relu'),\n",
        "    tf.keras.layers.Dense(1, activation = 'sigmoid'),\n",
        "])"
      ],
      "metadata": {
        "id": "QtWsToOcmvEq"
      },
      "execution_count": null,
      "outputs": []
    },
    {
      "cell_type": "code",
      "source": [
        "model.compile(\n",
        "    optimizer = 'adam',\n",
        "    loss = 'binary_crossentropy',\n",
        "    metrics = ['accuracy']\n",
        ")"
      ],
      "metadata": {
        "id": "QwNrJFewoXcy"
      },
      "execution_count": null,
      "outputs": []
    },
    {
      "cell_type": "code",
      "source": [
        "val_data = tfds.load('horses_or_humans', split = 'test', as_supervised = True)\n",
        "validation_batches = val_data.batch(32)"
      ],
      "metadata": {
        "id": "EWU1Rt8_ntsk"
      },
      "execution_count": null,
      "outputs": []
    },
    {
      "cell_type": "code",
      "source": [
        "history = model.fit(\n",
        "    train_batches,\n",
        "    epochs = 3,\n",
        "    validation_data = validation_batches,\n",
        "    validation_steps = 1\n",
        ")"
      ],
      "metadata": {
        "colab": {
          "base_uri": "https://localhost:8080/"
        },
        "id": "xozwGdMkoITu",
        "outputId": "eca2e2ce-cd37-491c-9e3e-1b3a3ab10dd8"
      },
      "execution_count": null,
      "outputs": [
        {
          "output_type": "stream",
          "name": "stdout",
          "text": [
            "Epoch 1/10\n",
            "103/103 [==============================] - 58s 553ms/step - loss: 2.8110 - accuracy: 0.7877 - val_loss: 0.3138 - val_accuracy: 0.8438\n",
            "Epoch 2/10\n",
            "103/103 [==============================] - 53s 520ms/step - loss: 0.2665 - accuracy: 0.8958 - val_loss: 0.7987 - val_accuracy: 0.9062\n",
            "Epoch 3/10\n",
            "103/103 [==============================] - 54s 522ms/step - loss: 0.2857 - accuracy: 0.8948 - val_loss: 0.4274 - val_accuracy: 0.9062\n",
            "Epoch 4/10\n",
            "103/103 [==============================] - 54s 522ms/step - loss: 0.0852 - accuracy: 0.9688 - val_loss: 1.3489 - val_accuracy: 0.8438\n",
            "Epoch 5/10\n",
            "103/103 [==============================] - 55s 534ms/step - loss: 0.0249 - accuracy: 0.9922 - val_loss: 3.6558 - val_accuracy: 0.8125\n",
            "Epoch 6/10\n",
            "103/103 [==============================] - 55s 533ms/step - loss: 0.0635 - accuracy: 0.9786 - val_loss: 2.0930 - val_accuracy: 0.8438\n",
            "Epoch 7/10\n",
            "103/103 [==============================] - 54s 523ms/step - loss: 0.0553 - accuracy: 0.9864 - val_loss: 1.4019 - val_accuracy: 0.8125\n",
            "Epoch 8/10\n",
            "103/103 [==============================] - 55s 534ms/step - loss: 0.0120 - accuracy: 0.9971 - val_loss: 1.9431 - val_accuracy: 0.8750\n",
            "Epoch 9/10\n",
            "103/103 [==============================] - 54s 528ms/step - loss: 0.0805 - accuracy: 0.9796 - val_loss: 3.2955 - val_accuracy: 0.8438\n",
            "Epoch 10/10\n",
            "103/103 [==============================] - 55s 532ms/step - loss: 0.1542 - accuracy: 0.9581 - val_loss: 4.1545 - val_accuracy: 0.7188\n"
          ]
        }
      ]
    },
    {
      "cell_type": "code",
      "source": [
        "def augmentImages(image, label):\n",
        "  image = tf.cast(image, tf.float32)\n",
        "  image = image / 255.0\n",
        "  image = tf.image.random_flip_left_right(image)\n",
        "  return image, label"
      ],
      "metadata": {
        "id": "BdkwP6WLoTd3"
      },
      "execution_count": null,
      "outputs": []
    }
  ]
}
{
  "nbformat": 4,
  "nbformat_minor": 0,
  "metadata": {
    "colab": {
      "provenance": [],
      "authorship_tag": "ABX9TyP/2BiTQrTFOK4+9t+hv3jd",
      "include_colab_link": true
    },
    "kernelspec": {
      "name": "python3",
      "display_name": "Python 3"
    },
    "language_info": {
      "name": "python"
    }
  },
  "cells": [
    {
      "cell_type": "markdown",
      "metadata": {
        "id": "view-in-github",
        "colab_type": "text"
      },
      "source": [
        "<a href=\"https://colab.research.google.com/github/pascualcam/aiml_code/blob/main/ch5/ch5_tokenization.ipynb\" target=\"_parent\"><img src=\"https://colab.research.google.com/assets/colab-badge.svg\" alt=\"Open In Colab\"/></a>"
      ]
    },
    {
      "cell_type": "code",
      "execution_count": 1,
      "metadata": {
        "id": "cVs9PPgUhCTd"
      },
      "outputs": [],
      "source": [
        "import tensorflow as tf\n",
        "from tensorflow import keras\n",
        "from tensorflow.keras.preprocessing.text import Tokenizer\n",
        "from tf.keras.layers.TextVectorization import"
      ]
    },
    {
      "cell_type": "code",
      "source": [
        "sentences = [\n",
        "    'Today is a sunny day',\n",
        "    'Today is a rainy day',\n",
        "    'Is it sunny today?',\n",
        "    'I really enjoyed walking in the snow today'\n",
        "]"
      ],
      "metadata": {
        "id": "uyWgDtzGhMbX"
      },
      "execution_count": 18,
      "outputs": []
    },
    {
      "cell_type": "code",
      "source": [
        "tokenizer = Tokenizer(num_words = 100, oov_token = '<OOV>')\n",
        "tokenizer.fit_on_texts(sentences)\n",
        "word_index = tokenizer.word_index\n",
        "print(word_index)"
      ],
      "metadata": {
        "colab": {
          "base_uri": "https://localhost:8080/"
        },
        "id": "m3yS48oWhTLh",
        "outputId": "0e7b1034-a6ba-4c8e-b963-ef4ca93eee28"
      },
      "execution_count": 19,
      "outputs": [
        {
          "output_type": "stream",
          "name": "stdout",
          "text": [
            "{'<OOV>': 1, 'today': 2, 'is': 3, 'a': 4, 'sunny': 5, 'day': 6, 'rainy': 7, 'it': 8, 'i': 9, 'really': 10, 'enjoyed': 11, 'walking': 12, 'in': 13, 'the': 14, 'snow': 15}\n"
          ]
        }
      ]
    },
    {
      "cell_type": "markdown",
      "source": [
        "# Sequences"
      ],
      "metadata": {
        "id": "Ds2IaBwniQUo"
      }
    },
    {
      "cell_type": "code",
      "source": [
        "sequences = tokenizer.texts_to_sequences(sentences)\n",
        "print(sequences)"
      ],
      "metadata": {
        "colab": {
          "base_uri": "https://localhost:8080/"
        },
        "id": "8Gez3UQmiP0Q",
        "outputId": "b1d8152d-46f1-475a-9510-d3cdad3c2e83"
      },
      "execution_count": 23,
      "outputs": [
        {
          "output_type": "stream",
          "name": "stdout",
          "text": [
            "[[2, 3, 4, 5, 6], [2, 3, 4, 7, 6], [3, 8, 5, 2], [9, 10, 11, 12, 13, 14, 15, 2]]\n"
          ]
        }
      ]
    },
    {
      "cell_type": "markdown",
      "source": [
        "# Out-of-vocabulary (OOV) tokens"
      ],
      "metadata": {
        "id": "3APlc6kzi9pH"
      }
    },
    {
      "cell_type": "code",
      "source": [
        "test_data = [\n",
        "    'Today is a snowy day',\n",
        "    'Will it be rainy tomorrow?'\n",
        "]"
      ],
      "metadata": {
        "id": "SUd7qjfsi83d"
      },
      "execution_count": 16,
      "outputs": []
    },
    {
      "cell_type": "code",
      "source": [
        "test_sequences = tokenizer.texts_to_sequences(test_data)\n",
        "print(word_index)\n",
        "print(test_sequences)"
      ],
      "metadata": {
        "colab": {
          "base_uri": "https://localhost:8080/"
        },
        "id": "Xo-p4Y1FjNSC",
        "outputId": "3f361eed-36a7-4896-c9ca-8de84754e6cd"
      },
      "execution_count": 17,
      "outputs": [
        {
          "output_type": "stream",
          "name": "stdout",
          "text": [
            "{'<OOV>': 1, 'today': 2, 'is': 3, 'a': 4, 'sunny': 5, 'day': 6, 'rainy': 7, 'it': 8}\n",
            "[[2, 3, 4, 1, 6], [1, 8, 1, 7, 1]]\n"
          ]
        }
      ]
    },
    {
      "cell_type": "markdown",
      "source": [
        "# Padding"
      ],
      "metadata": {
        "id": "QkJCZo1bkgCz"
      }
    },
    {
      "cell_type": "code",
      "source": [
        "from tensorflow.keras.preprocessing.sequence import pad_sequences\n",
        "padded = pad_sequences(sequences)\n",
        "print(padded)"
      ],
      "metadata": {
        "colab": {
          "base_uri": "https://localhost:8080/"
        },
        "id": "ZPewWxWejft2",
        "outputId": "96248720-a35b-45db-f62c-8ed230f4f7bb"
      },
      "execution_count": 24,
      "outputs": [
        {
          "output_type": "stream",
          "name": "stdout",
          "text": [
            "[[ 0  0  0  2  3  4  5  6]\n",
            " [ 0  0  0  2  3  4  7  6]\n",
            " [ 0  0  0  0  3  8  5  2]\n",
            " [ 9 10 11 12 13 14 15  2]]\n"
          ]
        }
      ]
    },
    {
      "cell_type": "code",
      "source": [
        "post_padded = pad_sequences(sequences, padding = 'post')\n",
        "print(post_padded)"
      ],
      "metadata": {
        "colab": {
          "base_uri": "https://localhost:8080/"
        },
        "id": "TcMCbWd4k6tX",
        "outputId": "6f519e68-5fe5-4661-92f9-245f552a9c23"
      },
      "execution_count": 28,
      "outputs": [
        {
          "output_type": "stream",
          "name": "stdout",
          "text": [
            "[[ 2  3  4  5  6  0  0  0]\n",
            " [ 2  3  4  7  6  0  0  0]\n",
            " [ 3  8  5  2  0  0  0  0]\n",
            " [ 9 10 11 12 13 14 15  2]]\n"
          ]
        }
      ]
    },
    {
      "cell_type": "code",
      "source": [
        "maxlen_padded = pad_sequences(sequences, padding = 'post', maxlen = 6)\n",
        "print(maxlen_padded)"
      ],
      "metadata": {
        "colab": {
          "base_uri": "https://localhost:8080/"
        },
        "id": "nCLnB-9_lNRb",
        "outputId": "85777419-19da-423f-fef1-dc9efb359827"
      },
      "execution_count": 30,
      "outputs": [
        {
          "output_type": "stream",
          "name": "stdout",
          "text": [
            "[[ 2  3  4  5  6  0]\n",
            " [ 2  3  4  7  6  0]\n",
            " [ 3  8  5  2  0  0]\n",
            " [11 12 13 14 15  2]]\n"
          ]
        }
      ]
    },
    {
      "cell_type": "code",
      "source": [
        "maxlen_padded_end = pad_sequences(sequences, padding = 'post', maxlen = 6, truncating = 'post')\n",
        "print(maxlen_padded_end)"
      ],
      "metadata": {
        "colab": {
          "base_uri": "https://localhost:8080/"
        },
        "id": "HzRDiC8ola2F",
        "outputId": "17be4ec0-72b3-42d9-e2a6-17394514c8db"
      },
      "execution_count": 33,
      "outputs": [
        {
          "output_type": "stream",
          "name": "stdout",
          "text": [
            "[[ 2  3  4  5  6  0]\n",
            " [ 2  3  4  7  6  0]\n",
            " [ 3  8  5  2  0  0]\n",
            " [ 9 10 11 12 13 14]]\n"
          ]
        }
      ]
    },
    {
      "cell_type": "markdown",
      "source": [
        "### NOTE: ragged tensors will be explored as a follow-up"
      ],
      "metadata": {
        "id": "4CTSDj5AlqE1"
      }
    }
  ]
}
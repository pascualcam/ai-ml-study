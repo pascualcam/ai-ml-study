{
 "cells": [
  {
   "cell_type": "code",
   "execution_count": 8,
   "id": "942615d9",
   "metadata": {},
   "outputs": [],
   "source": [
    "import pandas as pd\n",
    "import tensorflow as tf\n",
    "from tensorflow.keras.preprocessing.image import ImageDataGenerator\n"
   ]
  },
  {
   "cell_type": "code",
   "execution_count": 9,
   "id": "d39d943d",
   "metadata": {},
   "outputs": [],
   "source": [
    "training_dir = 'horse-or-human/training'"
   ]
  },
  {
   "cell_type": "code",
   "execution_count": 10,
   "id": "28ee4950",
   "metadata": {},
   "outputs": [
    {
     "name": "stdout",
     "output_type": "stream",
     "text": [
      "Found 1027 images belonging to 2 classes.\n"
     ]
    }
   ],
   "source": [
    "train_datagen = ImageDataGenerator(rescale=1/255)\n",
    "\n",
    "train_generator = train_datagen.flow_from_directory(\n",
    "    training_dir,\n",
    "    target_size=(300, 300),\n",
    "    class_mode='binary'\n",
    ")"
   ]
  },
  {
   "cell_type": "code",
   "execution_count": 12,
   "id": "79fbfb76",
   "metadata": {},
   "outputs": [],
   "source": [
    "model = tf.keras.Sequential([\n",
    "    tf.keras.layers.Conv2D(16, (3,3), activation='relu', input_shape=(300,300,3)),\n",
    "    tf.keras.layers.MaxPooling2D(2,2),\n",
    "    tf.keras.layers.Conv2D(32, (3,3), activation='relu'),\n",
    "    tf.keras.layers.MaxPooling2D(2,2),\n",
    "    tf.keras.layers.Conv2D(64, (3,3), activation='relu'),\n",
    "    tf.keras.layers.MaxPooling2D(2,2),\n",
    "    tf.keras.layers.Conv2D(64, (3,3), activation='relu'),\n",
    "    tf.keras.layers.MaxPooling2D(2,2),\n",
    "    tf.keras.layers.Conv2D(64, (3,3), activation='relu'),\n",
    "    tf.keras.layers.MaxPooling2D(2,2),\n",
    "    tf.keras.layers.Flatten(),\n",
    "    tf.keras.layers.Dense(512, activation='relu'),\n",
    "    tf.keras.layers.Dense(1, activation='sigmoid')\n",
    "])"
   ]
  },
  {
   "cell_type": "code",
   "execution_count": 14,
   "id": "961935dd",
   "metadata": {},
   "outputs": [
    {
     "name": "stdout",
     "output_type": "stream",
     "text": [
      "Model: \"sequential_1\"\n",
      "_________________________________________________________________\n",
      " Layer (type)                Output Shape              Param #   \n",
      "=================================================================\n",
      " conv2d_5 (Conv2D)           (None, 298, 298, 16)      448       \n",
      "                                                                 \n",
      " max_pooling2d_5 (MaxPoolin  (None, 149, 149, 16)      0         \n",
      " g2D)                                                            \n",
      "                                                                 \n",
      " conv2d_6 (Conv2D)           (None, 147, 147, 32)      4640      \n",
      "                                                                 \n",
      " max_pooling2d_6 (MaxPoolin  (None, 73, 73, 32)        0         \n",
      " g2D)                                                            \n",
      "                                                                 \n",
      " conv2d_7 (Conv2D)           (None, 71, 71, 64)        18496     \n",
      "                                                                 \n",
      " max_pooling2d_7 (MaxPoolin  (None, 35, 35, 64)        0         \n",
      " g2D)                                                            \n",
      "                                                                 \n",
      " conv2d_8 (Conv2D)           (None, 33, 33, 64)        36928     \n",
      "                                                                 \n",
      " max_pooling2d_8 (MaxPoolin  (None, 16, 16, 64)        0         \n",
      " g2D)                                                            \n",
      "                                                                 \n",
      " conv2d_9 (Conv2D)           (None, 14, 14, 64)        36928     \n",
      "                                                                 \n",
      " max_pooling2d_9 (MaxPoolin  (None, 7, 7, 64)          0         \n",
      " g2D)                                                            \n",
      "                                                                 \n",
      " flatten_1 (Flatten)         (None, 3136)              0         \n",
      "                                                                 \n",
      " dense_2 (Dense)             (None, 512)               1606144   \n",
      "                                                                 \n",
      " dense_3 (Dense)             (None, 1)                 513       \n",
      "                                                                 \n",
      "=================================================================\n",
      "Total params: 1704097 (6.50 MB)\n",
      "Trainable params: 1704097 (6.50 MB)\n",
      "Non-trainable params: 0 (0.00 Byte)\n",
      "_________________________________________________________________\n"
     ]
    }
   ],
   "source": [
    "model.summary()"
   ]
  },
  {
   "cell_type": "code",
   "execution_count": 16,
   "id": "c38f49b5",
   "metadata": {},
   "outputs": [],
   "source": [
    "import tf.keras.optimizers.legacy.RMSprop\n",
    "# from tensorflow.keras.optimizers import RMSprop\n",
    "import numpy as np\n",
    "from keras.preprocessing import image\n",
    "\n",
    "import matplotlib.pyplot as plt\n",
    "import numpy as np\n",
    "import random\n",
    "from tensorflow.keras.preprocessing.image import img_to_array, load_img"
   ]
  },
  {
   "cell_type": "code",
   "execution_count": 18,
   "id": "5b2ec9b1",
   "metadata": {},
   "outputs": [],
   "source": [
    "model.compile(loss='binary_crossentropy',\n",
    "             optimizer=tf.keras.optimizers.legacy.RMSprop(learning_rate=0.001),\n",
    "             metrics=['accuracy']\n",
    ")"
   ]
  },
  {
   "cell_type": "code",
   "execution_count": 19,
   "id": "1be23839",
   "metadata": {},
   "outputs": [
    {
     "name": "stdout",
     "output_type": "stream",
     "text": [
      "Epoch 1/15\n",
      "33/33 [==============================] - 10s 297ms/step - loss: 0.7201 - accuracy: 0.6884\n",
      "Epoch 2/15\n",
      "33/33 [==============================] - 10s 296ms/step - loss: 0.4374 - accuracy: 0.8890\n",
      "Epoch 3/15\n",
      "33/33 [==============================] - 10s 301ms/step - loss: 0.2158 - accuracy: 0.9309\n",
      "Epoch 4/15\n",
      "33/33 [==============================] - 10s 303ms/step - loss: 0.1237 - accuracy: 0.9533\n",
      "Epoch 5/15\n",
      "33/33 [==============================] - 10s 303ms/step - loss: 0.1185 - accuracy: 0.9591\n",
      "Epoch 6/15\n",
      "33/33 [==============================] - 10s 307ms/step - loss: 0.1268 - accuracy: 0.9601\n",
      "Epoch 7/15\n",
      "33/33 [==============================] - 10s 303ms/step - loss: 0.0403 - accuracy: 0.9873\n",
      "Epoch 8/15\n",
      "33/33 [==============================] - 10s 306ms/step - loss: 0.0380 - accuracy: 0.9873\n",
      "Epoch 9/15\n",
      "33/33 [==============================] - 10s 307ms/step - loss: 0.0710 - accuracy: 0.9912\n",
      "Epoch 10/15\n",
      "33/33 [==============================] - 10s 307ms/step - loss: 0.0543 - accuracy: 0.9834\n",
      "Epoch 11/15\n",
      "33/33 [==============================] - 10s 308ms/step - loss: 7.5929e-04 - accuracy: 1.0000\n",
      "Epoch 12/15\n",
      "33/33 [==============================] - 10s 308ms/step - loss: 1.9719e-05 - accuracy: 1.0000\n",
      "Epoch 13/15\n",
      "33/33 [==============================] - 10s 310ms/step - loss: 7.6953e-06 - accuracy: 1.0000\n",
      "Epoch 14/15\n",
      "33/33 [==============================] - 10s 312ms/step - loss: 4.3621e-07 - accuracy: 1.0000\n",
      "Epoch 15/15\n",
      "33/33 [==============================] - 10s 313ms/step - loss: 0.0490 - accuracy: 0.9922\n"
     ]
    }
   ],
   "source": [
    "history = model.fit(\n",
    "    train_generator,\n",
    "    epochs=15\n",
    ")"
   ]
  },
  {
   "cell_type": "code",
   "execution_count": 21,
   "id": "3a0a4bb6",
   "metadata": {},
   "outputs": [
    {
     "name": "stdout",
     "output_type": "stream",
     "text": [
      "Found 256 images belonging to 2 classes.\n"
     ]
    }
   ],
   "source": [
    "validation_dir = 'horse-or-human/validation'\n",
    "validation_datagen = ImageDataGenerator(rescale=1/255)\n",
    "validation_generator = train_datagen.flow_from_directory(\n",
    "    validation_dir,\n",
    "    target_size=(300,300),\n",
    "    class_mode='binary'\n",
    ")"
   ]
  },
  {
   "cell_type": "code",
   "execution_count": 23,
   "id": "0ea94c22",
   "metadata": {},
   "outputs": [
    {
     "name": "stdout",
     "output_type": "stream",
     "text": [
      "Epoch 1/15\n",
      "33/33 [==============================] - 12s 352ms/step - loss: 7.1510e-10 - accuracy: 1.0000 - val_loss: 6.2312 - val_accuracy: 0.8281\n",
      "Epoch 2/15\n",
      "33/33 [==============================] - 12s 374ms/step - loss: 2.9219e-10 - accuracy: 1.0000 - val_loss: 6.2647 - val_accuracy: 0.8320\n",
      "Epoch 3/15\n",
      "33/33 [==============================] - 12s 353ms/step - loss: 2.2841e-10 - accuracy: 1.0000 - val_loss: 6.7411 - val_accuracy: 0.8242\n",
      "Epoch 4/15\n",
      "33/33 [==============================] - 12s 347ms/step - loss: 2.1873e-10 - accuracy: 1.0000 - val_loss: 7.0897 - val_accuracy: 0.8242\n",
      "Epoch 5/15\n",
      "33/33 [==============================] - 12s 347ms/step - loss: 7.9253e-11 - accuracy: 1.0000 - val_loss: 7.0812 - val_accuracy: 0.8281\n",
      "Epoch 6/15\n",
      "33/33 [==============================] - 12s 346ms/step - loss: 7.4334e-11 - accuracy: 1.0000 - val_loss: 7.0796 - val_accuracy: 0.8281\n",
      "Epoch 7/15\n",
      "33/33 [==============================] - 12s 358ms/step - loss: 7.6679e-11 - accuracy: 1.0000 - val_loss: 7.0624 - val_accuracy: 0.8281\n",
      "Epoch 8/15\n",
      "33/33 [==============================] - 12s 352ms/step - loss: 7.6909e-11 - accuracy: 1.0000 - val_loss: 7.2073 - val_accuracy: 0.8281\n",
      "Epoch 9/15\n",
      "33/33 [==============================] - 12s 347ms/step - loss: 4.4393e-11 - accuracy: 1.0000 - val_loss: 7.2262 - val_accuracy: 0.8281\n",
      "Epoch 10/15\n",
      "33/33 [==============================] - 11s 340ms/step - loss: 3.9156e-11 - accuracy: 1.0000 - val_loss: 7.2205 - val_accuracy: 0.8281\n",
      "Epoch 11/15\n",
      "33/33 [==============================] - 12s 346ms/step - loss: 3.8118e-11 - accuracy: 1.0000 - val_loss: 7.2140 - val_accuracy: 0.8281\n",
      "Epoch 12/15\n",
      "33/33 [==============================] - 12s 347ms/step - loss: 3.8294e-11 - accuracy: 1.0000 - val_loss: 7.2082 - val_accuracy: 0.8281\n",
      "Epoch 13/15\n",
      "33/33 [==============================] - 11s 344ms/step - loss: 3.8469e-11 - accuracy: 1.0000 - val_loss: 7.2027 - val_accuracy: 0.8281\n",
      "Epoch 14/15\n",
      "33/33 [==============================] - 12s 345ms/step - loss: 3.8347e-11 - accuracy: 1.0000 - val_loss: 7.1975 - val_accuracy: 0.8281\n",
      "Epoch 15/15\n",
      "33/33 [==============================] - 12s 367ms/step - loss: 3.9260e-11 - accuracy: 1.0000 - val_loss: 7.1927 - val_accuracy: 0.8281\n"
     ]
    }
   ],
   "source": [
    "history = model.fit(\n",
    "    train_generator,\n",
    "    epochs=15,\n",
    "    validation_data=validation_generator\n",
    ")"
   ]
  },
  {
   "cell_type": "code",
   "execution_count": 48,
   "id": "07c329f8",
   "metadata": {},
   "outputs": [
    {
     "name": "stdout",
     "output_type": "stream",
     "text": [
      "1/1 [==============================] - 0s 13ms/step\n",
      "[[0.]]\n",
      "[0.]\n",
      "somehuman1.png is a horse\n",
      "1/1 [==============================] - 0s 12ms/step\n",
      "[[0.]]\n",
      "[0.]\n",
      "somehorse.png is a horse\n",
      "1/1 [==============================] - 0s 13ms/step\n",
      "[[0.]]\n",
      "[0.]\n",
      "somehuman2.png is a horse\n"
     ]
    }
   ],
   "source": [
    "from PIL import Image\n",
    "import numpy as np\n",
    "from keras.preprocessing import image\n",
    "\n",
    "# Preorcess images\n",
    "def preprocess_image(image_path):\n",
    "    img = image.load_img(image_path, target_size=(300, 300))\n",
    "    x = image.img_to_array(img)\n",
    "    x = np.expand_dims(x, axis=0)\n",
    "    image_tensor = np.vstack([x])\n",
    "    return image_tensor\n",
    "\n",
    " \n",
    "image_filenames = ['somehuman1.png', 'somehorse.png', 'somehuman2.png']\n",
    "\n",
    "# Iterate over each image and predict what it is\n",
    "for image_filename in image_filenames:\n",
    "    path = 'horse-or-human/testing/'\n",
    "    image_tensor = preprocess_image(path + image_filename)\n",
    "    classes = model.predict(image_tensor)\n",
    "    print(classes)\n",
    "    print(classes[0])\n",
    "    \n",
    "    if(classes[0] > 0.5):\n",
    "        print(image_filename + ' is a human')\n",
    "    else:\n",
    "        print(image_filename + ' is a horse')"
   ]
  },
  {
   "cell_type": "code",
   "execution_count": null,
   "id": "6c43bfdd",
   "metadata": {},
   "outputs": [],
   "source": []
  }
 ],
 "metadata": {
  "kernelspec": {
   "display_name": "Python 3 (ipykernel)",
   "language": "python",
   "name": "python3"
  },
  "language_info": {
   "codemirror_mode": {
    "name": "ipython",
    "version": 3
   },
   "file_extension": ".py",
   "mimetype": "text/x-python",
   "name": "python",
   "nbconvert_exporter": "python",
   "pygments_lexer": "ipython3",
   "version": "3.10.2"
  }
 },
 "nbformat": 4,
 "nbformat_minor": 5
}

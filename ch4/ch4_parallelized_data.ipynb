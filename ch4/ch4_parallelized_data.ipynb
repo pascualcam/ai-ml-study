{
  "nbformat": 4,
  "nbformat_minor": 0,
  "metadata": {
    "colab": {
      "provenance": [],
      "authorship_tag": "ABX9TyPdk6USpCIIRRE68DcDbfDy",
      "include_colab_link": true
    },
    "kernelspec": {
      "name": "python3",
      "display_name": "Python 3"
    },
    "language_info": {
      "name": "python"
    }
  },
  "cells": [
    {
      "cell_type": "markdown",
      "metadata": {
        "id": "view-in-github",
        "colab_type": "text"
      },
      "source": [
        "<a href=\"https://colab.research.google.com/github/pascualcam/aiml_code/blob/main/ch4/ch4_parallelized_data.ipynb\" target=\"_parent\"><img src=\"https://colab.research.google.com/assets/colab-badge.svg\" alt=\"Open In Colab\"/></a>"
      ]
    },
    {
      "cell_type": "code",
      "execution_count": 17,
      "metadata": {
        "id": "k_c4AGfd67q7"
      },
      "outputs": [],
      "source": [
        "import tensorflow as tf\n",
        "import tensorflow_datasets as tfds\n",
        "import multiprocessing"
      ]
    },
    {
      "cell_type": "markdown",
      "source": [
        "MODEL ARCHITECTURE"
      ],
      "metadata": {
        "id": "P5HmA6eS_oD9"
      }
    },
    {
      "cell_type": "code",
      "source": [
        "import tensorflow as tf\n",
        "import tensorflow_datasets as tfds\n",
        "import numpy as np\n",
        "\n",
        "def create_model():\n",
        "  model = tf.keras.models.Sequential([\n",
        "    tf.keras.layers.Conv2D(16, (3,3), activation='relu',\n",
        "                                      input_shape=(300, 300, 3)),\n",
        "    tf.keras.layers.MaxPooling2D(2, 2),\n",
        "    tf.keras.layers.Conv2D(32, (3,3), activation='relu'),\n",
        "    tf.keras.layers.MaxPooling2D(2,2),\n",
        "    tf.keras.layers.Conv2D(64, (3,3), activation='relu'),\n",
        "    tf.keras.layers.MaxPooling2D(2,2),\n",
        "    tf.keras.layers.Conv2D(64, (3,3), activation='relu'),\n",
        "    tf.keras.layers.MaxPooling2D(2,2),\n",
        "    tf.keras.layers.Conv2D(64, (3,3), activation='relu'),\n",
        "    tf.keras.layers.MaxPooling2D(2,2),\n",
        "    tf.keras.layers.Flatten(),\n",
        "    tf.keras.layers.Dense(512, activation='relu'),\n",
        "    tf.keras.layers.Dense(1, activation='sigmoid')\n",
        "  ])\n",
        "\n",
        "\n",
        "  model.compile(optimizer='Adam', loss='binary_crossentropy', metrics=['accuracy'])\n",
        "  return model"
      ],
      "metadata": {
        "id": "oPMrvLZp_p55"
      },
      "execution_count": 18,
      "outputs": []
    },
    {
      "cell_type": "markdown",
      "source": [
        "EXTRACT"
      ],
      "metadata": {
        "id": "t4acS7bt_ddZ"
      }
    },
    {
      "cell_type": "code",
      "source": [
        "train_data = tfds.load('cats_vs_dogs', split = 'train', with_info = 'true')"
      ],
      "metadata": {
        "id": "iu0TsPZb7Hs9"
      },
      "execution_count": 19,
      "outputs": []
    },
    {
      "cell_type": "code",
      "source": [
        "file_pattern = f'/root/tensorflow_datasets/cats_vs_dogs/4.0.0/cats_vs_dogs-train.tfrecord*'\n",
        "files = tf.data.Dataset.list_files(file_pattern)"
      ],
      "metadata": {
        "id": "ek_EGFW-7n7g"
      },
      "execution_count": 20,
      "outputs": []
    },
    {
      "cell_type": "code",
      "source": [
        "# set max degree of parallelism\n",
        "train_dataset = files.interleave(\n",
        "    tf.data.TFRecordDataset,\n",
        "    cycle_length = 4,  # input elements processed concurrently\n",
        "    num_parallel_calls = tf.data.experimental.AUTOTUNE  # parallel calls to execute\n",
        ")"
      ],
      "metadata": {
        "id": "wc1BPUxj8E0u"
      },
      "execution_count": 21,
      "outputs": []
    },
    {
      "cell_type": "markdown",
      "source": [
        "TRANSFORM"
      ],
      "metadata": {
        "id": "3WL58fvU75Mz"
      }
    },
    {
      "cell_type": "code",
      "source": [
        "def read_tfrecord(serialized_example):\n",
        "  #\n",
        "  feature_description = {\n",
        "      \"image\": tf.io.FixedLenFeature((), tf.string, \"\"),\n",
        "      \"label\": tf.io.FixedLenFeature((), tf.int64, -1)\n",
        "  }\n",
        "  #\n",
        "  example = tf.io.parse_single_example(\n",
        "      serialized_example, feature_description\n",
        "  )\n",
        "  image = tf.io.decode_jpeg(example['image'], channels = 3)\n",
        "  image = tf.cast(image, tf.float32)\n",
        "  image = image / 255\n",
        "  image = tf.image.resize(image, (300, 300))\n",
        "  return image, example['label']"
      ],
      "metadata": {
        "id": "oZl4A64c803m"
      },
      "execution_count": 22,
      "outputs": []
    },
    {
      "cell_type": "code",
      "source": [
        "cores = multiprocessing.cpu_count()\n",
        "print(cores)\n",
        "train_dataset = train_dataset.map(read_tfrecord, num_parallel_calls = cores)\n",
        "train_dataset = train_dataset.cache()"
      ],
      "metadata": {
        "colab": {
          "base_uri": "https://localhost:8080/"
        },
        "id": "nlL5_fSv-E5M",
        "outputId": "0a854632-8943-46eb-fa7b-e61e35617d4a"
      },
      "execution_count": 23,
      "outputs": [
        {
          "output_type": "stream",
          "name": "stdout",
          "text": [
            "2\n"
          ]
        }
      ]
    },
    {
      "cell_type": "markdown",
      "source": [
        "LOAD"
      ],
      "metadata": {
        "id": "GlWRKLOP_jDP"
      }
    },
    {
      "cell_type": "code",
      "source": [
        "# shuffle and batch the data\n",
        "train_dataset = train_dataset.shuffle(1024).batch(32)\n",
        "train_dataset = train_dataset.prefetch(tf.data.experimental.AUTOTUNE)"
      ],
      "metadata": {
        "id": "ecFb-E9C-g2H"
      },
      "execution_count": 24,
      "outputs": []
    },
    {
      "cell_type": "code",
      "source": [
        "# train the model\n",
        "model = create_model()\n",
        "model.fit(\n",
        "    train_dataset,\n",
        "    epochs = 10,\n",
        "    verbose = 1\n",
        ")"
      ],
      "metadata": {
        "colab": {
          "base_uri": "https://localhost:8080/"
        },
        "id": "xAUNoA7E_nLr",
        "outputId": "407ace64-7dda-4f37-dec3-daf101c21ef8"
      },
      "execution_count": null,
      "outputs": [
        {
          "output_type": "stream",
          "name": "stdout",
          "text": [
            "Epoch 1/10\n",
            "    246/Unknown - 772s 3s/step - loss: 0.6821 - accuracy: 0.5556"
          ]
        }
      ]
    }
  ]
}